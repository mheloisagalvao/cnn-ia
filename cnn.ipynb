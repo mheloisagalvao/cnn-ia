{
  "nbformat": 4,
  "nbformat_minor": 0,
  "metadata": {
    "colab": {
      "provenance": [],
      "authorship_tag": "ABX9TyNQ6WcJwAqtnwyIfbZyZylH",
      "include_colab_link": true
    },
    "kernelspec": {
      "name": "python3",
      "display_name": "Python 3"
    },
    "language_info": {
      "name": "python"
    }
  },
  "cells": [
    {
      "cell_type": "markdown",
      "metadata": {
        "id": "view-in-github",
        "colab_type": "text"
      },
      "source": [
        "<a href=\"https://colab.research.google.com/github/mheloisagalvao/cnn-ia/blob/main/cnn.ipynb\" target=\"_parent\"><img src=\"https://colab.research.google.com/assets/colab-badge.svg\" alt=\"Open In Colab\"/></a>"
      ]
    },
    {
      "cell_type": "code",
      "execution_count": 1,
      "metadata": {
        "colab": {
          "base_uri": "https://localhost:8080/"
        },
        "id": "L5t06G-KKaPB",
        "outputId": "f4da3a68-d70c-4147-b1ed-81c29722d952"
      },
      "outputs": [
        {
          "output_type": "stream",
          "name": "stdout",
          "text": [
            "Requirement already satisfied: gdown in /usr/local/lib/python3.10/dist-packages (4.6.6)\n",
            "Requirement already satisfied: filelock in /usr/local/lib/python3.10/dist-packages (from gdown) (3.13.1)\n",
            "Requirement already satisfied: requests[socks] in /usr/local/lib/python3.10/dist-packages (from gdown) (2.31.0)\n",
            "Requirement already satisfied: six in /usr/local/lib/python3.10/dist-packages (from gdown) (1.16.0)\n",
            "Requirement already satisfied: tqdm in /usr/local/lib/python3.10/dist-packages (from gdown) (4.66.1)\n",
            "Requirement already satisfied: beautifulsoup4 in /usr/local/lib/python3.10/dist-packages (from gdown) (4.11.2)\n",
            "Requirement already satisfied: soupsieve>1.2 in /usr/local/lib/python3.10/dist-packages (from beautifulsoup4->gdown) (2.5)\n",
            "Requirement already satisfied: charset-normalizer<4,>=2 in /usr/local/lib/python3.10/dist-packages (from requests[socks]->gdown) (3.3.2)\n",
            "Requirement already satisfied: idna<4,>=2.5 in /usr/local/lib/python3.10/dist-packages (from requests[socks]->gdown) (3.4)\n",
            "Requirement already satisfied: urllib3<3,>=1.21.1 in /usr/local/lib/python3.10/dist-packages (from requests[socks]->gdown) (2.0.7)\n",
            "Requirement already satisfied: certifi>=2017.4.17 in /usr/local/lib/python3.10/dist-packages (from requests[socks]->gdown) (2023.7.22)\n",
            "Requirement already satisfied: PySocks!=1.5.7,>=1.5.6 in /usr/local/lib/python3.10/dist-packages (from requests[socks]->gdown) (1.7.1)\n"
          ]
        }
      ],
      "source": [
        "!pip install gdown"
      ]
    },
    {
      "cell_type": "code",
      "source": [
        "import os\n",
        "import cv2\n",
        "import numpy as np\n",
        "from tensorflow.keras.utils import to_categorical\n",
        "from tensorflow.keras.preprocessing.image import ImageDataGenerator\n",
        "from tensorflow.keras.models import Sequential\n",
        "from tensorflow.keras.layers import Conv2D, MaxPooling2D, Flatten, Dense\n",
        "from tensorflow.keras.callbacks import ModelCheckpoint\n",
        "\n",
        "# Função para carregar e pré-processar imagens\n",
        "def load_and_preprocess_images(folder, num_images_per_class=500):\n",
        "    images = []\n",
        "    labels = []\n",
        "    class_indices = {}\n",
        "\n",
        "    # Obtendo a lista de classes e atribuindo um índice a cada uma\n",
        "    classes = os.listdir(folder)\n",
        "    for i, fruit_class in enumerate(classes):\n",
        "        class_indices[fruit_class] = i\n",
        "\n",
        "    for fruit_class in classes:\n",
        "        class_path = os.path.join(folder, fruit_class)\n",
        "        class_images = []\n",
        "\n",
        "        # Obtendo as imagens e labels da classe\n",
        "        for filename in os.listdir(class_path):\n",
        "            img_path = os.path.join(class_path, filename)\n",
        "\n",
        "            try:\n",
        "                img = cv2.imread(img_path)\n",
        "                if img is not None and img.size > 0:\n",
        "                    img = cv2.cvtColor(img, cv2.COLOR_BGR2RGB)\n",
        "                    img = cv2.resize(img, (224, 224))\n",
        "                    class_images.append(img)\n",
        "                    labels.append(class_indices[fruit_class])\n",
        "            except Exception as e:\n",
        "                print(f\"Erro ao abrir {img_path}. O arquivo será ignorado.\")\n",
        "\n",
        "        # Adicionar as primeiras 'num_images_per_class' imagens da classe\n",
        "        images.extend(class_images[:num_images_per_class])\n",
        "\n",
        "    if not labels:\n",
        "        print(\"Nenhuma label foi encontrada. Certifique-se de que as imagens estão sendo carregadas corretamente.\")\n",
        "        return None, None, None\n",
        "\n",
        "    return np.array(images), to_categorical(labels), class_indices\n",
        "\n",
        "# Carregando e pré-processando imagens\n",
        "dataset_folder = 'fruits_dataset'\n",
        "images, labels, class_indices = load_and_preprocess_images(dataset_folder, num_images_per_class=500)\n",
        "\n",
        "if images is None or labels is None or class_indices is None:\n",
        "    print(\"O carregamento e pré-processamento de imagens falhou.\")\n",
        "else:\n",
        "    print(\"Shapes das imagens e labels:\", images.shape, labels.shape)\n",
        "\n",
        "    # Criando um ImageDataGenerator para pré-processamento e aumento de dados\n",
        "    datagen = ImageDataGenerator(\n",
        "        rescale=1./255,\n",
        "        shear_range=0.2,\n",
        "        zoom_range=0.2,\n",
        "        horizontal_flip=True,\n",
        "        validation_split=0.2\n",
        "    )\n",
        "\n",
        "    # Criando geradores de dados para treino e validação\n",
        "    train_generator = datagen.flow(\n",
        "        x=images,\n",
        "        y=labels,\n",
        "        subset='training',\n",
        "        batch_size=32,\n",
        "        seed=42\n",
        "    )\n",
        "\n",
        "    validation_generator = datagen.flow(\n",
        "        x=images,\n",
        "        y=labels,\n",
        "        subset='validation',\n",
        "        batch_size=32,\n",
        "        seed=42\n",
        "    )\n",
        "\n",
        "    # Certificando-se de que as labels estão em formato categórico\n",
        "    categorical_labels = to_categorical(labels)\n",
        "\n",
        "    # Definindo a arquitetura da CNN\n",
        "    model = Sequential([\n",
        "        Conv2D(32, (3, 3), activation='relu', input_shape=(224, 224, 3)),\n",
        "        MaxPooling2D((2, 2)),\n",
        "        Conv2D(64, (3, 3), activation='relu'),\n",
        "        MaxPooling2D((2, 2)),\n",
        "        Conv2D(128, (3, 3), activation='relu'),\n",
        "        MaxPooling2D((2, 2)),\n",
        "        Flatten(),\n",
        "        Dense(128, activation='relu'),\n",
        "        Dense(len(class_indices), activation='softmax')\n",
        "    ])\n",
        "\n",
        "    # Compilando o modelo\n",
        "    model.compile(optimizer='adam',\n",
        "                   loss='categorical_crossentropy',\n",
        "                   metrics=['accuracy'])\n",
        "\n",
        "    # Definindo checkpoints para salvar o melhor modelo\n",
        "    checkpoint = ModelCheckpoint('model_best.h5', save_best_only=True)\n",
        "\n",
        "    # Treinando o modelo\n",
        "    model.fit(train_generator, epochs=10, validation_data=validation_generator, callbacks=[checkpoint])\n",
        "\n",
        "    # Avaliando o modelo no conjunto de validação\n",
        "    model.evaluate(validation_generator)"
      ],
      "metadata": {
        "colab": {
          "base_uri": "https://localhost:8080/",
          "height": 401
        },
        "id": "XgypgqF8KiEA",
        "outputId": "dc3666b5-9f85-4235-80e8-5442a895f85f"
      },
      "execution_count": 9,
      "outputs": [
        {
          "output_type": "error",
          "ename": "FileNotFoundError",
          "evalue": "ignored",
          "traceback": [
            "\u001b[0;31m---------------------------------------------------------------------------\u001b[0m",
            "\u001b[0;31mFileNotFoundError\u001b[0m                         Traceback (most recent call last)",
            "\u001b[0;32m<ipython-input-9-6db7dcbb3bd7>\u001b[0m in \u001b[0;36m<cell line: 50>\u001b[0;34m()\u001b[0m\n\u001b[1;32m     48\u001b[0m \u001b[0;31m# Carregando e pré-processando imagens\u001b[0m\u001b[0;34m\u001b[0m\u001b[0;34m\u001b[0m\u001b[0m\n\u001b[1;32m     49\u001b[0m \u001b[0mdataset_folder\u001b[0m \u001b[0;34m=\u001b[0m \u001b[0;34m'fruits_dataset'\u001b[0m\u001b[0;34m\u001b[0m\u001b[0;34m\u001b[0m\u001b[0m\n\u001b[0;32m---> 50\u001b[0;31m \u001b[0mimages\u001b[0m\u001b[0;34m,\u001b[0m \u001b[0mlabels\u001b[0m\u001b[0;34m,\u001b[0m \u001b[0mclass_indices\u001b[0m \u001b[0;34m=\u001b[0m \u001b[0mload_and_preprocess_images\u001b[0m\u001b[0;34m(\u001b[0m\u001b[0mdataset_folder\u001b[0m\u001b[0;34m,\u001b[0m \u001b[0mnum_images_per_class\u001b[0m\u001b[0;34m=\u001b[0m\u001b[0;36m500\u001b[0m\u001b[0;34m)\u001b[0m\u001b[0;34m\u001b[0m\u001b[0;34m\u001b[0m\u001b[0m\n\u001b[0m\u001b[1;32m     51\u001b[0m \u001b[0;34m\u001b[0m\u001b[0m\n\u001b[1;32m     52\u001b[0m \u001b[0;32mif\u001b[0m \u001b[0mimages\u001b[0m \u001b[0;32mis\u001b[0m \u001b[0;32mNone\u001b[0m \u001b[0;32mor\u001b[0m \u001b[0mlabels\u001b[0m \u001b[0;32mis\u001b[0m \u001b[0;32mNone\u001b[0m \u001b[0;32mor\u001b[0m \u001b[0mclass_indices\u001b[0m \u001b[0;32mis\u001b[0m \u001b[0;32mNone\u001b[0m\u001b[0;34m:\u001b[0m\u001b[0;34m\u001b[0m\u001b[0;34m\u001b[0m\u001b[0m\n",
            "\u001b[0;32m<ipython-input-9-6db7dcbb3bd7>\u001b[0m in \u001b[0;36mload_and_preprocess_images\u001b[0;34m(folder, num_images_per_class)\u001b[0m\n\u001b[1;32m     15\u001b[0m \u001b[0;34m\u001b[0m\u001b[0m\n\u001b[1;32m     16\u001b[0m     \u001b[0;31m# Obtendo a lista de classes e atribuindo um índice a cada uma\u001b[0m\u001b[0;34m\u001b[0m\u001b[0;34m\u001b[0m\u001b[0m\n\u001b[0;32m---> 17\u001b[0;31m     \u001b[0mclasses\u001b[0m \u001b[0;34m=\u001b[0m \u001b[0mos\u001b[0m\u001b[0;34m.\u001b[0m\u001b[0mlistdir\u001b[0m\u001b[0;34m(\u001b[0m\u001b[0mfolder\u001b[0m\u001b[0;34m)\u001b[0m\u001b[0;34m\u001b[0m\u001b[0;34m\u001b[0m\u001b[0m\n\u001b[0m\u001b[1;32m     18\u001b[0m     \u001b[0;32mfor\u001b[0m \u001b[0mi\u001b[0m\u001b[0;34m,\u001b[0m \u001b[0mfruit_class\u001b[0m \u001b[0;32min\u001b[0m \u001b[0menumerate\u001b[0m\u001b[0;34m(\u001b[0m\u001b[0mclasses\u001b[0m\u001b[0;34m)\u001b[0m\u001b[0;34m:\u001b[0m\u001b[0;34m\u001b[0m\u001b[0;34m\u001b[0m\u001b[0m\n\u001b[1;32m     19\u001b[0m         \u001b[0mclass_indices\u001b[0m\u001b[0;34m[\u001b[0m\u001b[0mfruit_class\u001b[0m\u001b[0;34m]\u001b[0m \u001b[0;34m=\u001b[0m \u001b[0mi\u001b[0m\u001b[0;34m\u001b[0m\u001b[0;34m\u001b[0m\u001b[0m\n",
            "\u001b[0;31mFileNotFoundError\u001b[0m: [Errno 2] No such file or directory: 'fruits_dataset'"
          ]
        }
      ]
    },
    {
      "cell_type": "code",
      "source": [],
      "metadata": {
        "id": "fPHfWPPWK5Kf"
      },
      "execution_count": null,
      "outputs": []
    }
  ]
}